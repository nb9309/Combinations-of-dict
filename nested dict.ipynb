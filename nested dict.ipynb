{
 "cells": [
  {
   "cell_type": "code",
   "execution_count": 1,
   "metadata": {},
   "outputs": [
    {
     "ename": "SyntaxError",
     "evalue": "invalid syntax (3294149411.py, line 1)",
     "output_type": "error",
     "traceback": [
      "\u001b[1;36m  Cell \u001b[1;32mIn[1], line 1\u001b[1;36m\u001b[0m\n\u001b[1;33m    d = {10:'what',15:'hii',{20:2.3,25:89},18:3+4j}\u001b[0m\n\u001b[1;37m                                          ^\u001b[0m\n\u001b[1;31mSyntaxError\u001b[0m\u001b[1;31m:\u001b[0m invalid syntax\n"
     ]
    }
   ],
   "source": [
    "d = {10:'what',15:'hii',{20:2.3,25:89},18:3+4j}\n",
    "print(d,type(d))"
   ]
  },
  {
   "cell_type": "code",
   "execution_count": 6,
   "metadata": {},
   "outputs": [
    {
     "name": "stdout",
     "output_type": "stream",
     "text": [
      "{10: 'what', 15: 'hii', 'im': {20: 2.3, 25: 89}, 18: (3+4j)} <class 'dict'>\n"
     ]
    }
   ],
   "source": [
    "d1 = {10:'what',15:'hii','im' : {20:2.3,25:89}, 18:3+4j}\n",
    "print(d1,type(d1))"
   ]
  },
  {
   "cell_type": "code",
   "execution_count": 8,
   "metadata": {},
   "outputs": [
    {
     "data": {
      "text/plain": [
       "2.3"
      ]
     },
     "execution_count": 8,
     "metadata": {},
     "output_type": "execute_result"
    }
   ],
   "source": [
    "d1['im'].get(20)"
   ]
  },
  {
   "cell_type": "code",
   "execution_count": 10,
   "metadata": {},
   "outputs": [
    {
     "name": "stdout",
     "output_type": "stream",
     "text": [
      "{10: 'what', 15: 'hii', 'im': {20: 2.3, 25: 89}, 18: (3+4j), 4: {20: 68, 25: 'too'}, 20: {20: 68, 25: 'too'}}\n"
     ]
    }
   ],
   "source": [
    "d1[20] = {20:68,25:'too'}\n",
    "print(d1)"
   ]
  },
  {
   "cell_type": "code",
   "execution_count": 13,
   "metadata": {},
   "outputs": [
    {
     "name": "stdout",
     "output_type": "stream",
     "text": [
      "10 ----> what -----> <class 'str'> <class 'dict'>\n",
      "15 ----> hii -----> <class 'str'> <class 'dict'>\n",
      "im ----> {20: 2.3, 25: 89} -----> <class 'dict'> <class 'dict'>\n",
      "18 ----> (3+4j) -----> <class 'complex'> <class 'dict'>\n",
      "4 ----> {20: 68, 25: 'too'} -----> <class 'dict'> <class 'dict'>\n",
      "20 ----> {20: 68, 25: 'too'} -----> <class 'dict'> <class 'dict'>\n"
     ]
    }
   ],
   "source": [
    "for k,v in d1.items():\n",
    "    print(k,'---->',v,'----->',type(v),type(d1))"
   ]
  },
  {
   "cell_type": "code",
   "execution_count": 14,
   "metadata": {},
   "outputs": [
    {
     "data": {
      "text/plain": [
       "{20: 68, 25: 'too'}"
      ]
     },
     "execution_count": 14,
     "metadata": {},
     "output_type": "execute_result"
    }
   ],
   "source": [
    "d1.get(20)"
   ]
  },
  {
   "cell_type": "code",
   "execution_count": 15,
   "metadata": {},
   "outputs": [],
   "source": [
    "d1.get(25)"
   ]
  },
  {
   "cell_type": "code",
   "execution_count": 16,
   "metadata": {},
   "outputs": [
    {
     "name": "stdout",
     "output_type": "stream",
     "text": [
      "{10: 'what', 15: 'hii', 'im': {20: 2.3, 25: 89}, 18: (3+4j), 4: {20: 68, 25: 'too'}}\n"
     ]
    }
   ],
   "source": [
    "d1.pop(20)\n",
    "print(d1)"
   ]
  },
  {
   "cell_type": "code",
   "execution_count": 17,
   "metadata": {},
   "outputs": [
    {
     "name": "stdout",
     "output_type": "stream",
     "text": [
      "{10: 'what', 15: 'hii', 'im': {20: 2.3, 25: 89}, 18: (3+4j), 4: {25: 'too'}}\n"
     ]
    }
   ],
   "source": [
    "d1[4].pop(20)\n",
    "print(d1)"
   ]
  },
  {
   "cell_type": "code",
   "execution_count": 18,
   "metadata": {},
   "outputs": [
    {
     "name": "stdout",
     "output_type": "stream",
     "text": [
      "10 ---> hii ---> <class 'str'> <class 'dict'>\n",
      "15 ---> 8.9 ---> <class 'float'> <class 'dict'>\n",
      "20 ---> {2, 3, 4, 5} ---> <class 'set'> <class 'dict'>\n",
      "25 ---> 7 ---> <class 'int'> <class 'dict'>\n"
     ]
    }
   ],
   "source": [
    "d2 = {10:'hii',15:8.9,20:{2,3,4,5},25:7}\n",
    "for k,v in d2.items():\n",
    "    print(k,'--->',v,'--->',type(v),type(d2))"
   ]
  },
  {
   "cell_type": "code",
   "execution_count": 19,
   "metadata": {},
   "outputs": [
    {
     "name": "stdout",
     "output_type": "stream",
     "text": [
      "{10: 'hii', 15: 8.9, 20: {2, 3, 5}, 25: 7}\n"
     ]
    }
   ],
   "source": [
    "d2[20].remove(4)\n",
    "print(d2)"
   ]
  },
  {
   "cell_type": "code",
   "execution_count": 20,
   "metadata": {},
   "outputs": [
    {
     "data": {
      "text/plain": [
       "{2, 3, 5}"
      ]
     },
     "execution_count": 20,
     "metadata": {},
     "output_type": "execute_result"
    }
   ],
   "source": [
    "d2[20]"
   ]
  },
  {
   "cell_type": "code",
   "execution_count": 21,
   "metadata": {},
   "outputs": [
    {
     "name": "stdout",
     "output_type": "stream",
     "text": [
      "{10: 'hii', 15: 8.9, 20: {2, 3, 4, 5}, 25: 7}\n"
     ]
    }
   ],
   "source": [
    "d2[20].add(4)\n",
    "print(d2)"
   ]
  },
  {
   "cell_type": "code",
   "execution_count": 32,
   "metadata": {},
   "outputs": [
    {
     "name": "stdout",
     "output_type": "stream",
     "text": [
      "10 ---> hii ---> <class 'str'> <class 'dict'>\n",
      "15 ---> 8.9 ---> <class 'float'> <class 'dict'>\n",
      "20 ---> (2, 3, 4, 5, 3) ---> <class 'tuple'> <class 'dict'>\n",
      "25 ---> 7 ---> <class 'int'> <class 'dict'>\n"
     ]
    }
   ],
   "source": [
    "d3 = {10:'hii',15:8.9,20:(2,3,4,5,3),25:7}\n",
    "for k,v in d3.items():\n",
    "    print(k,'--->',v,'--->',type(v),type(d3))"
   ]
  },
  {
   "cell_type": "code",
   "execution_count": 24,
   "metadata": {},
   "outputs": [
    {
     "data": {
      "text/plain": [
       "2"
      ]
     },
     "execution_count": 24,
     "metadata": {},
     "output_type": "execute_result"
    }
   ],
   "source": [
    "d3[20].count(3)"
   ]
  },
  {
   "cell_type": "code",
   "execution_count": 37,
   "metadata": {},
   "outputs": [
    {
     "name": "stdout",
     "output_type": "stream",
     "text": [
      "{10: 'hii', 15: 8.9, 20: (5, 4, 3, 3, 2), 25: 7}\n"
     ]
    }
   ],
   "source": [
    "d3[20] = tuple(sorted(d3[20]))[::-1]\n",
    "print(d3)"
   ]
  },
  {
   "cell_type": "code",
   "execution_count": 25,
   "metadata": {},
   "outputs": [
    {
     "ename": "AttributeError",
     "evalue": "'tuple' object has no attribute 'pop'",
     "output_type": "error",
     "traceback": [
      "\u001b[1;31m---------------------------------------------------------------------------\u001b[0m",
      "\u001b[1;31mAttributeError\u001b[0m                            Traceback (most recent call last)",
      "Cell \u001b[1;32mIn[25], line 1\u001b[0m\n\u001b[1;32m----> 1\u001b[0m \u001b[43md3\u001b[49m\u001b[43m[\u001b[49m\u001b[38;5;241;43m20\u001b[39;49m\u001b[43m]\u001b[49m\u001b[38;5;241;43m.\u001b[39;49m\u001b[43mpop\u001b[49m(\u001b[38;5;241m2\u001b[39m)\n",
      "\u001b[1;31mAttributeError\u001b[0m: 'tuple' object has no attribute 'pop'"
     ]
    }
   ],
   "source": [
    "d3[20].pop(2)"
   ]
  },
  {
   "cell_type": "code",
   "execution_count": 26,
   "metadata": {},
   "outputs": [
    {
     "name": "stdout",
     "output_type": "stream",
     "text": [
      "{10: 'hii', 15: 8.9, 25: 7}\n"
     ]
    }
   ],
   "source": [
    "del d3[20]\n",
    "print(d3)"
   ]
  },
  {
   "cell_type": "code",
   "execution_count": 27,
   "metadata": {},
   "outputs": [
    {
     "name": "stdout",
     "output_type": "stream",
     "text": [
      "10 ---> hii ---> <class 'str'> ---> <class 'dict'>\n",
      "15 ---> what ---> <class 'str'> ---> <class 'dict'>\n",
      "20 ---> [3, 4, 5, 6, 'joo', 6.8] ---> <class 'list'> ---> <class 'dict'>\n",
      "21 ---> (8+4j) ---> <class 'complex'> ---> <class 'dict'>\n"
     ]
    }
   ],
   "source": [
    "d4 = {10:'hii',15:'what',20:[3,4,5,6,'joo',6.8],21:8+4j}\n",
    "for k,v in d4.items():\n",
    "    print(k,'--->',v,'--->',type(v),'--->',type(d4))"
   ]
  },
  {
   "cell_type": "code",
   "execution_count": 28,
   "metadata": {},
   "outputs": [
    {
     "name": "stdout",
     "output_type": "stream",
     "text": [
      "{10: 'hii', 15: 'what', 20: [3, 5, 6, 'joo', 6.8], 21: (8+4j)}\n"
     ]
    }
   ],
   "source": [
    "d4[20].pop(1)\n",
    "print(d4)"
   ]
  },
  {
   "cell_type": "code",
   "execution_count": 29,
   "metadata": {},
   "outputs": [
    {
     "name": "stdout",
     "output_type": "stream",
     "text": [
      "[3, 5, 6, 'joo', 6.8]\n"
     ]
    }
   ],
   "source": [
    "a = d4[20].copy()\n",
    "print(a)"
   ]
  },
  {
   "cell_type": "code",
   "execution_count": 40,
   "metadata": {},
   "outputs": [
    {
     "name": "stdout",
     "output_type": "stream",
     "text": [
      "2 ---> <class 'int'>\n",
      "hii ---> <class 'str'>\n",
      "8.9 ---> <class 'float'>\n",
      "{'name': 'naresh', 'marks': 90} ---> <class 'dict'>\n",
      "(3+4j) ---> <class 'complex'>\n",
      "<class 'tuple'>\n"
     ]
    }
   ],
   "source": [
    "d5 = (2,'hii',8.9,{'name':'naresh','marks':90},3+4j)\n",
    "for i in d5:\n",
    "    print(i,'--->',type(i))\n",
    "print(type(d5))"
   ]
  },
  {
   "cell_type": "code",
   "execution_count": 42,
   "metadata": {},
   "outputs": [
    {
     "name": "stdout",
     "output_type": "stream",
     "text": [
      "(2, 'hii', 8.9, {'name': 'naresh', 'marks': 90, 'school': 'nagarjuna'}, (3+4j))\n"
     ]
    }
   ],
   "source": [
    "d5[-2]['school'] = 'nagarjuna'\n",
    "print(d5)"
   ]
  },
  {
   "cell_type": "code",
   "execution_count": 43,
   "metadata": {},
   "outputs": [
    {
     "name": "stdout",
     "output_type": "stream",
     "text": [
      "(2, 'hii', 8.9, {'name': 'naresh', 'school': 'nagarjuna'}, (3+4j))\n"
     ]
    }
   ],
   "source": [
    "d5[-2].pop('marks')\n",
    "print(d5)"
   ]
  },
  {
   "cell_type": "code",
   "execution_count": 45,
   "metadata": {},
   "outputs": [
    {
     "name": "stdout",
     "output_type": "stream",
     "text": [
      "name ---> naresh\n",
      "school ---> nagarjuna\n"
     ]
    }
   ],
   "source": [
    "for k,v in d5[-2].items():\n",
    "    print(k,'--->',v)"
   ]
  },
  {
   "cell_type": "code",
   "execution_count": 46,
   "metadata": {},
   "outputs": [
    {
     "ename": "TypeError",
     "evalue": "unhashable type: 'dict'",
     "output_type": "error",
     "traceback": [
      "\u001b[1;31m---------------------------------------------------------------------------\u001b[0m",
      "\u001b[1;31mTypeError\u001b[0m                                 Traceback (most recent call last)",
      "Cell \u001b[1;32mIn[46], line 1\u001b[0m\n\u001b[1;32m----> 1\u001b[0m s \u001b[38;5;241m=\u001b[39m {\u001b[38;5;241m2\u001b[39m,\u001b[38;5;241m6\u001b[39m,\u001b[38;5;241m4\u001b[39m,{\u001b[38;5;241m2\u001b[39m:\u001b[38;5;124m'\u001b[39m\u001b[38;5;124mfree\u001b[39m\u001b[38;5;124m'\u001b[39m},\u001b[38;5;124m'\u001b[39m\u001b[38;5;124mhii\u001b[39m\u001b[38;5;124m'\u001b[39m,\u001b[38;5;241m9.3\u001b[39m}\n\u001b[0;32m      2\u001b[0m \u001b[38;5;28mprint\u001b[39m(s)\n",
      "\u001b[1;31mTypeError\u001b[0m: unhashable type: 'dict'"
     ]
    }
   ],
   "source": [
    "s = {2,6,4,{2:'free'},'hii',9.3}\n",
    "print(s)"
   ]
  },
  {
   "cell_type": "code",
   "execution_count": 48,
   "metadata": {},
   "outputs": [
    {
     "name": "stdout",
     "output_type": "stream",
     "text": [
      "2 <class 'int'>\n",
      "5 <class 'int'>\n",
      "hii <class 'str'>\n",
      "{1: 'naresh', 2: 'marks', 3: 89} <class 'dict'>\n",
      "9.8 <class 'float'>\n",
      "<class 'list'>\n"
     ]
    }
   ],
   "source": [
    "l = [2,5,'hii',{1:'naresh',2:'marks',3:89},9.8]\n",
    "for i in l:\n",
    "    print(i,type(i))\n",
    "print(type(l))"
   ]
  },
  {
   "cell_type": "code",
   "execution_count": 49,
   "metadata": {},
   "outputs": [
    {
     "data": {
      "text/plain": [
       "dict_keys([1, 2, 3])"
      ]
     },
     "execution_count": 49,
     "metadata": {},
     "output_type": "execute_result"
    }
   ],
   "source": [
    "l[-2].keys()"
   ]
  },
  {
   "cell_type": "code",
   "execution_count": 53,
   "metadata": {},
   "outputs": [
    {
     "name": "stdout",
     "output_type": "stream",
     "text": [
      "[2, 5, 'hii', {4: 'school'}, 9.8]\n"
     ]
    }
   ],
   "source": [
    "l[-2][4] = 'school'\n",
    "print(l)"
   ]
  },
  {
   "cell_type": "code",
   "execution_count": 51,
   "metadata": {},
   "outputs": [
    {
     "data": {
      "text/plain": [
       "{1: 'naresh', 2: 'marks', 3: 89}"
      ]
     },
     "execution_count": 51,
     "metadata": {},
     "output_type": "execute_result"
    }
   ],
   "source": [
    "l[-2].popitem()\n",
    "l[-2]"
   ]
  },
  {
   "cell_type": "code",
   "execution_count": 52,
   "metadata": {},
   "outputs": [
    {
     "name": "stdout",
     "output_type": "stream",
     "text": [
      "[2, 5, 'hii', {}, 9.8]\n"
     ]
    }
   ],
   "source": [
    "l[-2].clear()\n",
    "print(l)"
   ]
  },
  {
   "cell_type": "code",
   "execution_count": 54,
   "metadata": {},
   "outputs": [
    {
     "name": "stdout",
     "output_type": "stream",
     "text": [
      "[2, 5, 'hii', {4: 'school'}, 9.8]\n"
     ]
    }
   ],
   "source": [
    "print(l)"
   ]
  },
  {
   "cell_type": "code",
   "execution_count": 55,
   "metadata": {},
   "outputs": [
    {
     "name": "stdout",
     "output_type": "stream",
     "text": [
      "[2, 5, 'hii', {4: 'school', 1: 'naresh'}, 9.8]\n"
     ]
    }
   ],
   "source": [
    "l[-2][1] = 'naresh'\n",
    "print(l)"
   ]
  }
 ],
 "metadata": {
  "kernelspec": {
   "display_name": "base",
   "language": "python",
   "name": "python3"
  },
  "language_info": {
   "codemirror_mode": {
    "name": "ipython",
    "version": 3
   },
   "file_extension": ".py",
   "mimetype": "text/x-python",
   "name": "python",
   "nbconvert_exporter": "python",
   "pygments_lexer": "ipython3",
   "version": "3.9.19"
  }
 },
 "nbformat": 4,
 "nbformat_minor": 2
}
